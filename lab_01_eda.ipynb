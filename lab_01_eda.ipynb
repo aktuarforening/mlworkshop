{
 "cells": [
  {
   "cell_type": "markdown",
   "metadata": {},
   "source": [
    "# Indledende analyse af data\n",
    "\n",
    "Denne notebook indeholder en *absolut minimal* analyse af de data, vi vil anvende til at udvikle vores skade-ML-model. \n",
    "\n",
    "Analysens formål er at få et overordnet indtryk af data.\n",
    "\n",
    "Notebook'en kan forhåbentlig give inspiration til nyttige greb, der kan foretages i forbindelse med analyse af data i Python.\n",
    "\n",
    "## Import af python-afhængigheder\n",
    "\n",
    "Først importerer vi de python-moduler og -pakker, som vi betinger på i analysen."
   ]
  },
  {
   "cell_type": "code",
   "execution_count": null,
   "metadata": {},
   "outputs": [],
   "source": [
    "import matplotlib.pyplot as plt\n",
    "import pandas as pd\n",
    "import numpy as np\n",
    "from sklearn.model_selection import ShuffleSplit"
   ]
  },
  {
   "cell_type": "markdown",
   "metadata": {},
   "source": [
    "## Indlæsning af skade-data\n",
    "\n",
    "Vi indlæser først de \"rå\" skades-data. \n",
    "\n",
    "**Bemærk**, data for 2019 er forlods udtaget som *test*-sæt, som vi skal bruge til - når modeludviklingen engang er afsluttet - at få et unbiased estimat på den endelige models prædiktive performance på nye, usete datapunkter. \n",
    "\n",
    "Det skal spejle brugssituationen, hvor modellen skal anvendes på nye kunder for et nyt år."
   ]
  },
  {
   "cell_type": "code",
   "execution_count": null,
   "metadata": {},
   "outputs": [],
   "source": [
    "# indlæs data for 2015-18\n",
    "df = pd.read_parquet(\"data/train.parquet\")\n",
    "\n",
    "# dan binomial \"target\"-variabel, der angiver, om der har været skade(r) eller ej\n",
    "y = df[\"skadesantal\"].values > 0\n",
    "\n",
    "print(\n",
    "    \"Antal observationer opdelt på år:\\n\",\n",
    "    df.groupby(\"aar\").size().reset_index(name=\"count\"),\n",
    ")\n",
    "print(\"Antal observationer med/uden skade(r): \", sum(y), \"/\", len(y) - sum(y))"
   ]
  },
  {
   "cell_type": "markdown",
   "metadata": {},
   "source": [
    "Det bemærkes, at der er relativt få \"sande\" observationer i datasættet. Derfor siges datasættet at være [ubalanceret](https://developers.google.com/machine-learning/data-prep/construct/sampling-splitting/imbalanced-data), hvilket man skal være opmærksom på i modeludviklingen."
   ]
  },
  {
   "cell_type": "markdown",
   "metadata": {},
   "source": [
    "## Data splitting\n",
    "\n",
    "Observationerne fra 2015-2018 splittes tilfældigt i to datasæt til hhv. træning (80%) og validering (20%).\n",
    "\n",
    "Bemærk, vi instantierer *ShuffleSplit*-klassen. Dette er et eksempel på [objekt-orienteret-programmering](https://en.wikipedia.org/wiki/Object-oriented_programming), som anvendes i Python i stor stil (og som vi vil anvende i stor stil her på workshoppen). "
   ]
  },
  {
   "cell_type": "code",
   "execution_count": null,
   "metadata": {},
   "outputs": [],
   "source": [
    "# instantierer generator til split af data, random state sættes for at kunne reproducere split\n",
    "split_generator = ShuffleSplit(n_splits=1, train_size=0.8, random_state=42)\n",
    "\n",
    "# generér indices for de to splits\n",
    "train_index, val_index = next(split_generator.split(df))\n",
    "\n",
    "# opdel data i trænings- og valideringssæt\n",
    "X_train, y_train = df.iloc[train_index], y[train_index]\n",
    "X_val, y_val = df.iloc[val_index], y[val_index]\n",
    "\n",
    "print(\n",
    "    \"Antal observationer i trænings- og valideringssæt: \", len(y_train), \"/\", len(y_val)\n",
    ")"
   ]
  },
  {
   "cell_type": "markdown",
   "metadata": {},
   "source": [
    "Den resterende del af analysen udføres alene på trænings-datasættet."
   ]
  },
  {
   "cell_type": "markdown",
   "metadata": {},
   "source": [
    "## Opsummering af data\n",
    "\n",
    "Et kort oprids af data kan fås med metoden [`info()`](https://pandas.pydata.org/docs/reference/api/pandas.DataFrame.info.html) for `pandas.DataFrame`. \n",
    "\n",
    "En anden nyttig metode er [`describe()`](https://pandas.pydata.org/docs/reference/api/pandas.DataFrame.describe.html)."
   ]
  },
  {
   "cell_type": "code",
   "execution_count": null,
   "metadata": {},
   "outputs": [],
   "source": [
    "X_train.info()"
   ]
  },
  {
   "cell_type": "markdown",
   "metadata": {},
   "source": [
    "Variablene ses at være en blanding af numeriske og kategoriske. \n",
    "\n",
    "En række variable har missing-værdier, hvilket skal håndteres i forbindelse med udviklingen af vores ML-modeller."
   ]
  },
  {
   "cell_type": "markdown",
   "metadata": {},
   "source": [
    "### Plots\n",
    "\n",
    "For at få indtryk af fordelingerne af de enkelte variable, kan histogrammer for de numeriske variable i datasættet plottes uden videre med [`hist()`](https://pandas.pydata.org/pandas-docs/stable/reference/api/pandas.DataFrame.hist.html)."
   ]
  },
  {
   "cell_type": "code",
   "execution_count": null,
   "metadata": {},
   "outputs": [],
   "source": [
    "X_train.hist(layout=(5, 3), figsize=(15, 10), bins=50)\n",
    "plt.show()"
   ]
  },
  {
   "cell_type": "markdown",
   "metadata": {},
   "source": [
    "Fordelingerne af de kategoriske variable i datasættet visualiseres med box plots."
   ]
  },
  {
   "cell_type": "code",
   "execution_count": null,
   "metadata": {},
   "outputs": [],
   "source": [
    "for col in X_train.select_dtypes(include=[\"category\"]).columns:\n",
    "    X_train[col].value_counts().plot(kind=\"bar\")\n",
    "    plt.title(col)\n",
    "    plt.show()"
   ]
  },
  {
   "cell_type": "markdown",
   "metadata": {},
   "source": [
    "Er der noget, I hæfter jer ved? Opmærksomhedspunkter?"
   ]
  }
 ],
 "metadata": {
  "kernelspec": {
   "display_name": "Python 3",
   "language": "python",
   "name": "python3"
  },
  "language_info": {
   "codemirror_mode": {
    "name": "ipython",
    "version": 3
   },
   "file_extension": ".py",
   "mimetype": "text/x-python",
   "name": "python",
   "nbconvert_exporter": "python",
   "pygments_lexer": "ipython3",
   "version": "3.11.6"
  }
 },
 "nbformat": 4,
 "nbformat_minor": 2
}
