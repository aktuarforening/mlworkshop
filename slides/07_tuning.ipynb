{
 "cells": [
  {
   "cell_type": "markdown",
   "metadata": {
    "slideshow": {
     "slide_type": "slide"
    }
   },
   "source": [
    "# Model tuning"
   ]
  },
  {
   "cell_type": "markdown",
   "metadata": {
    "slideshow": {
     "slide_type": "slide"
    }
   },
   "source": [
    "## Definition\n",
    "Tuning indebærer at justere parametrene for en algoritme med henblik på at forbedre algoritmens prædiktive performance."
   ]
  },
  {
   "cell_type": "markdown",
   "metadata": {
    "slideshow": {
     "slide_type": "slide"
    }
   },
   "source": [
    "## Typer af parametre i ML\n",
    "\n",
    "- **hyperparametre**: parametre, der styrer læringsprocessen. Et eksempel er $C$ for `LogisticRegression`.\n",
    "- **modelparametre**: estimeres/læres i forbindelse med modeltræning. F.eks. de estimerede koefficienter for `LogisticRegression`.\n",
    "\n",
    "Det er således predictorens hyperparametre, man tuner. Man kan/bør også tune hyperparametrene for ens data-transformations-pipeline."
   ]
  },
  {
   "cell_type": "markdown",
   "metadata": {
    "slideshow": {
     "slide_type": "slide"
    }
   },
   "source": [
    "## Tuning-approach 1: Trial & Error\n",
    "En manuel *trial & error* tuning-proces består i følgende skridt:\n",
    "\n",
    "1. Vælg værdier for hyperparametre\n",
    "2. Træn/fit model på træningssæt\n",
    "3. Mål modellens performance på valideringssættet\n",
    "4. Justér parametre og gentag trin 1-3"
   ]
  },
  {
   "cell_type": "markdown",
   "metadata": {
    "slideshow": {
     "slide_type": "slide"
    }
   },
   "source": [
    "## Tuning-approach 2: Grid Search\n",
    "*Grid search* indebærer, at der trænes og evalueres en model for alle kombinationer af parametre, som modeludvikleren har specificeret i et *grid*. \n",
    "\n",
    "<img src=\"https://miro.medium.com/v2/resize:fit:1200/1*o2rMCJKUcpqRBFfHZ3Jkfg.png\" width=\"600\">\n",
    "\n",
    "Grid search er beregningsmæssigt tungt, da beregningstiden stiger eksponentielt i antallet af parametre."
   ]
  },
  {
   "cell_type": "markdown",
   "metadata": {
    "slideshow": {
     "slide_type": "slide"
    }
   },
   "source": [
    "## Tuning-approach 2: Random Search\n",
    "\n",
    "Brugeren specificerer fordelinger for de hyper-parametre, der skal tunes, og hvor mange iterationer søgningen skal køre.\n",
    "\n",
    "For hver iteration samples parameter-værdierne fra de specificerede fordelinger.\n",
    "\n",
    "```python\n",
    "space = dict()\n",
    "space['penalty'] = ['none', 'l1', 'l2', 'elasticnet']\n",
    "space['C'] = loguniform(1e-5, 100)\n",
    "search = RandomizedSearchCV(model, space, n_iter=10)\n",
    "```"
   ]
  },
  {
   "cell_type": "markdown",
   "metadata": {
    "slideshow": {
     "slide_type": "slide"
    }
   },
   "source": [
    "## Avancerede approaches\n",
    "\n",
    "Der findes også mere avancerede alternativer f.eks.:\n",
    "\n",
    "- [Bayesian Optimization](https://en.wikipedia.org/wiki/Bayesian_optimization)\n",
    "\n",
    "- [Hyperband](https://fastml.com/tuning-hyperparams-fast-with-hyperband/)\n"
   ]
  }
 ],
 "metadata": {
  "language_info": {
   "name": "python"
  }
 },
 "nbformat": 4,
 "nbformat_minor": 2
}
