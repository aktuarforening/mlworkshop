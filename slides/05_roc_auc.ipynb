{
 "cells": [
  {
   "cell_type": "markdown",
   "metadata": {
    "slideshow": {
     "slide_type": "slide"
    }
   },
   "source": [
    "# ROC AUC\n",
    "*Receiver Operating Characteristic Area Under the Curve*"
   ]
  },
  {
   "cell_type": "markdown",
   "metadata": {
    "slideshow": {
     "slide_type": "slide"
    }
   },
   "source": [
    "## Introduktion\n",
    "\n",
    "ROC AUC er en metrik til evaluering af klassifikations-modeller til binær klassifikation.\n",
    "\n",
    "Den udtrykker, hvor godt en klassifikations-model klassificerer."
   ]
  },
  {
   "cell_type": "markdown",
   "metadata": {
    "slideshow": {
     "slide_type": "slide"
    }
   },
   "source": [
    "## Hvad er ROC?\n",
    "\n",
    "ROC(Receiver Operating Characteristic)-kurve er en grafisk repræsentation af en klassifikations-models performance på tværs af alle tærskelværdier for modellens prædikterede sandsynligheder.\n",
    "\n",
    "Plotter *True Positive Rate* mod *False Positive Rate* for alle tærskelværdier."
   ]
  },
  {
   "cell_type": "markdown",
   "metadata": {
    "slideshow": {
     "slide_type": "subslide"
    }
   },
   "source": [
    "![ROC curve](img/roc-curve.png)"
   ]
  },
  {
   "cell_type": "markdown",
   "metadata": {
    "slideshow": {
     "slide_type": "slide"
    }
   },
   "source": [
    "## Komponenter i ROC-kurven\n",
    "\n",
    "- True Positive Rate ($TPR$):\n",
    "    - Måler andel faktisk positive, der er korrekt identificeret som positive\n",
    "    - $TPR = \\frac{TP}{TP + FN}$\n",
    "- False Positive Rate ($FPR$):\n",
    "    - Måler andel faktisk negative, der er forkert identificeret som positive\n",
    "    - $FPR = \\frac{FP}{FP + TN}$"
   ]
  },
  {
   "cell_type": "markdown",
   "metadata": {
    "slideshow": {
     "slide_type": "slide"
    }
   },
   "source": [
    "## Fortolkning af ROC-kurve\n",
    "\n",
    "- En ROC-kurve starter ved (0,0) og slutter ved (1,1).\n",
    "- Den perfekte klassifikationsmodel, der adskiller de to klasser perfekt, har en ROC-kurve, der går gennem øverste venstre hjørne ($TPR=1$, $FPR=0$).\n",
    "- En diagonal linje med hældning=1 svarer til en model, der gætter tilfældigt. Det kan ikke gøres dårligere end det."
   ]
  },
  {
   "cell_type": "markdown",
   "metadata": {
    "slideshow": {
     "slide_type": "subslide"
    }
   },
   "source": [
    "![ROC Curve explained](img/roc-curve-explained.png)"
   ]
  },
  {
   "cell_type": "markdown",
   "metadata": {
    "slideshow": {
     "slide_type": "slide"
    }
   },
   "source": [
    "## Area Under the Curve\n",
    "\n",
    "- $AUC$ måler arealet under ROC-kurven\n",
    "- $AUC$ er mellem 0 og 1\n",
    "- Jo højere AUC, desto bedre performance:\n",
    "    - $AUC = 1$: Perfekt klassifikationsmodel\n",
    "    - $AUC = 0.5$: Tilfældigt gætteri"
   ]
  },
  {
   "cell_type": "markdown",
   "metadata": {
    "slideshow": {
     "slide_type": "slide"
    }
   },
   "source": [
    "## Fortolkning af ROC AUC\n",
    "\n",
    "ROC AUC kan fortolkes som *sandsynligheden for, at modellen rangerer et tilfældigt par af en positiv observation og en negativ observation korrekt*."
   ]
  },
  {
   "cell_type": "markdown",
   "metadata": {
    "slideshow": {
     "slide_type": "slide"
    }
   },
   "source": [
    "## Mere om ROC AUC\n",
    "\n",
    "- ROC AUC er den mest populære metrik til binær klassifikation\n",
    "- ROC AUC er insensitivt over for fordelingen af target-variablen\n",
    "- ROC AUC opsummerer i ét tal performance for vores model, der regnes på tværs af alle mulige tærskelværdier\n",
    "    - Uafhængigt af et (arbitrært) valg af tærskelværdi som f.eks. *accuracy*\n",
    "\n",
    "Se også [denne gode ressource](https://mlu-explain.github.io/roc-auc/), der forklarer ROC AUC visuelt. Og [denne](https://developers.google.com/machine-learning/crash-course/classification/roc-and-auc)."
   ]
  }
 ],
 "metadata": {
  "kernelspec": {
   "display_name": "venv",
   "language": "python",
   "name": "python3"
  },
  "language_info": {
   "name": "python",
   "version": "3.11.6"
  }
 },
 "nbformat": 4,
 "nbformat_minor": 2
}
