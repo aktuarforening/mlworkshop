{
 "cells": [
  {
   "cell_type": "markdown",
   "metadata": {
    "slideshow": {
     "slide_type": "slide"
    }
   },
   "source": [
    "# **You**:\n",
    "## Why should I use scikit learn pipelines?"
   ]
  },
  {
   "cell_type": "markdown",
   "metadata": {
    "slideshow": {
     "slide_type": "slide"
    }
   },
   "source": [
    "# <img src=\"https://static.vecteezy.com/system/resources/thumbnails/022/227/358/small/openai-chatgpt-logo-icon-free-png.png\" width=\"40\"> **ChatGPT**:\n",
    "\n",
    "Using scikit-learn pipelines provides several advantages that make your machine learning workflows more (1) *efficient*, (2) *organized*, and (3) error-proof. Here are the key reasons why you should consider using scikit-learn pipelines:"
   ]
  },
  {
   "cell_type": "markdown",
   "metadata": {
    "slideshow": {
     "slide_type": "slide"
    }
   },
   "source": [
    "## 1. Simplification of Workflow\n",
    "Pipelines consolidate all preprocessing steps and the model training into a single object. This simplification means you don't have to manually keep track of your data's transformations and model training separately, reducing the risk of mistakes.\n"
   ]
  },
  {
   "cell_type": "markdown",
   "metadata": {
    "slideshow": {
     "slide_type": "slide"
    }
   },
   "source": [
    "\n",
    "## 2. Reproducibility\n",
    "By encapsulating the steps of your data preprocessing and model training, pipelines help ensure that the same steps are applied in the same way, in the same order every time. This is crucial for reproducing results.\n"
   ]
  },
  {
   "cell_type": "markdown",
   "metadata": {
    "slideshow": {
     "slide_type": "slide"
    }
   },
   "source": [
    "\n",
    "## 3. Ease of Cross-validation\n",
    "When you use a pipeline, the entire process from data preprocessing to model training can easily be cross-validated. \n"
   ]
  },
  {
   "cell_type": "markdown",
   "metadata": {
    "slideshow": {
     "slide_type": "slide"
    }
   },
   "source": [
    "\n",
    "## 4. Prevent data leakage\n",
    "`sklearn.pipelines` help preventing data leakage from the test set into the training process, ensuring valid models.\n"
   ]
  },
  {
   "cell_type": "markdown",
   "metadata": {
    "slideshow": {
     "slide_type": "slide"
    }
   },
   "source": [
    "## 5. Grid Search Integration\n",
    "Pipelines are fully compatible with scikit-learn's grid search functionality (as well as a number of alternative tuning approaches). This means you can optimize the hyperparameters of both the preprocessing steps and the model itself within the same grid search, making it easier to find the best combination of preprocessing techniques and model parameters.\n"
   ]
  },
  {
   "cell_type": "markdown",
   "metadata": {
    "slideshow": {
     "slide_type": "slide"
    }
   },
   "source": [
    "\n",
    "## 6. Convenience and Code Hygiene\n",
    "Pipelines help keep your code cleaner and more organized. Instead of having multiple transformations and training steps scattered throughout your code, a pipeline bundles all these steps into a single, coherent object. This makes your code easier to understand and maintain.\n"
   ]
  },
  {
   "cell_type": "markdown",
   "metadata": {
    "slideshow": {
     "slide_type": "slide"
    }
   },
   "source": [
    "\n",
    "## 7. Deployment\n",
    "When moving a machine learning model into a production environment, pipelines *simplify the deployment process*. The same pipeline object that was used for training, which includes data preprocessing and the predictive model, *can be saved and then loaded to make predictions in a production environment*. This ensures that the data used in production is preprocessed and predicted in *exactly the same way it was during model development*."
   ]
  }
 ],
 "metadata": {
  "language_info": {
   "name": "python"
  }
 },
 "nbformat": 4,
 "nbformat_minor": 2
}
