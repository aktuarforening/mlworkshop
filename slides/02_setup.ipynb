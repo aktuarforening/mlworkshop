{
 "cells": [
  {
   "cell_type": "markdown",
   "metadata": {
    "slideshow": {
     "slide_type": "slide"
    }
   },
   "source": [
    "# Opsætning"
   ]
  },
  {
   "cell_type": "markdown",
   "metadata": {
    "slideshow": {
     "slide_type": "slide"
    }
   },
   "source": [
    "## Motivation\n",
    "\n",
    "Vi ønsker ensartede udviklingsmiljøer for alle deltagere for at minimere det knas, som forskellige lokale opsætninger kan føre til.\n",
    "\n",
    "Til det formål opretter vi identiske cloud-servere (med adgang til workshop-materialerne) - en for hver bruger.\n",
    "\n",
    "Vi sætter serverne ensartet op."
   ]
  },
  {
   "cell_type": "markdown",
   "metadata": {
    "slideshow": {
     "slide_type": "subslide"
    }
   },
   "source": [
    "### GitHub Codespaces\n",
    "\n",
    "Vi anvender GitHub Codespaces sammen med Visual Studio Code. \n",
    "\n",
    "Er der nogen, der kender til GitHub Codespaces - eller ligefrem har brugt dem før?\n",
    "\n",
    "<img src=\"https://education.github.com/assets/pack/logo-github-codespaces-eb3a2e161fe5bce9f79532cba1b765f886924849709a90762005bd76ab2f96e0.jpg\" width=\"100\">"
   ]
  },
  {
   "cell_type": "markdown",
   "metadata": {
    "slideshow": {
     "slide_type": "slide"
    }
   },
   "source": [
    "## Step-by-step guide\n",
    "\n",
    "1. Sign-in på [GitHub](https://github.com/)\n",
    "2. Profile -> Billing and plans -> Spending Limits ->  Codespaces -> *Limit spending = $0*. Burde være default\n",
    "3. Start dit eget codespace fra vores [workshop repository](https://github.com/aktuarforening/ml), vælg machine type = '2-core, 8 GB RAM, 32 GB'\n",
    "4. Vælg 'Open codespace in browser', type = \"VS Code\"\n",
    "5. Installér følgende VS Code plug-ins:\n",
    "    - Python\n",
    "    - Jupyter\n",
    "6. Installér python-afhængigheder fra terminalen:\n",
    "    - `pip install -r requirements.txt`"
   ]
  },
  {
   "cell_type": "markdown",
   "metadata": {
    "slideshow": {
     "slide_type": "slide"
    }
   },
   "source": [
    "## Test\n",
    "\n",
    "- Afvikling af python-script\n",
    "- Afvikling af [jupyter notebook](https://jupyter.org/)\n",
    "\n",
    "<img src=\"https://upload.wikimedia.org/wikipedia/commons/thumb/0/0a/Python.svg/2048px-Python.svg.png\" width=\"150\">\n",
    "<img src=\"https://upload.wikimedia.org/wikipedia/commons/thumb/3/38/Jupyter_logo.svg/1767px-Jupyter_logo.svg.png\" width=\"150\">"
   ]
  }
 ],
 "metadata": {
  "language_info": {
   "name": "python"
  }
 },
 "nbformat": 4,
 "nbformat_minor": 2
}
