{
 "cells": [
  {
   "cell_type": "markdown",
   "metadata": {
    "slideshow": {
     "slide_type": "slide"
    }
   },
   "source": [
    "# Model Lab"
   ]
  },
  {
   "cell_type": "markdown",
   "metadata": {
    "slideshow": {
     "slide_type": "slide"
    }
   },
   "source": [
    "## Opgave\n",
    "Scenen er jeres.\n",
    "\n",
    "Lav den bedste model I kan på vores case-data og registrér den i vores konkurrence.\n",
    "\n",
    "I registrerer jeres model ved at submitte dens prædikterede sandsynligheder for skade(r) på observationerne i test-sættet (skades-data for 2019).\n",
    "\n",
    "Når tiden er slut, kårer vi den model, der har performet bedst på test-sættet (målt ved ROC AUC), som vinder.\n"
   ]
  },
  {
   "cell_type": "markdown",
   "metadata": {
    "slideshow": {
     "slide_type": "subslide"
    }
   },
   "source": [
    "\n",
    "**NB.** Konkurrencen er naturligvis mest for sjov, og den handler mest om, at I får prøvet nogle af de ting af, vi har været i berøring med. \n",
    "\n",
    "Arbejd meget gerne sammen i grupper."
   ]
  },
  {
   "cell_type": "markdown",
   "metadata": {
    "slideshow": {
     "slide_type": "subslide"
    }
   },
   "source": [
    "### Inspiration\n",
    "\n",
    "<img src=\"https://assets-global.website-files.com/5fc212183117036dc3c635d0/611f5ebe2709f0744c0f4413_Sourcing%20talent%20on%20Kaggle%20image.png\" width=\"600\">\n",
    "\n",
    "[Kaggle](https://www.kaggle.com/)"
   ]
  },
  {
   "cell_type": "markdown",
   "metadata": {
    "slideshow": {
     "slide_type": "slide"
    }
   },
   "source": [
    "## Sådan submitter du en løsning"
   ]
  },
  {
   "cell_type": "markdown",
   "metadata": {},
   "source": [
    "```python\n",
    "import pandas as pd\n",
    "from workshop.utils import submit\n",
    "# indlæs test-data\n",
    "test_set = pd.read_parquet(\"data/test.parquet\")\n",
    "# beregn prædikterede sandsynligheder på test-sættet\n",
    "y_score = pipe.predict_proba(test_set)[:, 1]\n",
    "# BEMÆRK, hvis du har tunet vha. en grid search: 'grid', skal der stå 'grid.predict_proba' i stedet\n",
    "# sandsynlighederne skal være en `list`\n",
    "y_score = y_score.tolist()\n",
    "# herefter sendes løsningen med `submit`\n",
    "submit(y_score)\n",
    "```\n",
    "> Din løsning er registreret! 😀"
   ]
  },
  {
   "cell_type": "markdown",
   "metadata": {},
   "source": [
    "Det bør tage cirka 4-5 sekunder at registrere en løsning."
   ]
  }
 ],
 "metadata": {
  "kernelspec": {
   "display_name": "venv",
   "language": "python",
   "name": "python3"
  },
  "language_info": {
   "codemirror_mode": {
    "name": "ipython",
    "version": 3
   },
   "file_extension": ".py",
   "mimetype": "text/x-python",
   "name": "python",
   "nbconvert_exporter": "python",
   "pygments_lexer": "ipython3",
   "version": "3.11.6"
  }
 },
 "nbformat": 4,
 "nbformat_minor": 2
}
