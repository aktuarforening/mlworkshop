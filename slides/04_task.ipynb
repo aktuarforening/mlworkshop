{
 "cells": [
  {
   "cell_type": "code",
   "execution_count": 2,
   "metadata": {
    "slideshow": {
     "slide_type": "skip"
    }
   },
   "outputs": [],
   "source": [
    "from _setup import _setup_notebook\n",
    "\n",
    "_setup_notebook()\n",
    "\n",
    "import pandas as pd\n",
    "\n",
    "pd.set_option(\"display.max_columns\", 50)"
   ]
  },
  {
   "cell_type": "markdown",
   "metadata": {},
   "source": [
    "# Hands-on opgave"
   ]
  },
  {
   "cell_type": "markdown",
   "metadata": {
    "slideshow": {
     "slide_type": "slide"
    }
   },
   "source": [
    "## Beskrivelse\n",
    "Udvikl en model, der prædikterer den helårlige sandsynlighed for en eller flere skader på en indbrudsforsikring.\n",
    "\n",
    "Modellen skal *klassificere* kunder med indbrudsforsikring bedst muligt."
   ]
  },
  {
   "cell_type": "markdown",
   "metadata": {
    "slideshow": {
     "slide_type": "slide"
    }
   },
   "source": [
    "## Data \n",
    "\n",
    "Modellen skal udvikles med afsæt i data for et fiktivt forsikringsselskab. \n",
    "\n",
    "Datasættet indeholder oplysninger om skader fra 2015-2019.\n",
    "\n",
    "Disse data lå til grund for bacheloropgaver i Skadesforsikringsmatematik i 2020 - har nogen af jer lavet den?\n",
    "\n",
    "En oversigt over variablene i datasættet med tilhørende (korte) forklaringer er tabelleret i `data/covariates.pdf`."
   ]
  },
  {
   "cell_type": "markdown",
   "metadata": {
    "slideshow": {
     "slide_type": "slide"
    }
   },
   "source": [
    "### Første kig på data"
   ]
  },
  {
   "cell_type": "code",
   "execution_count": 4,
   "metadata": {
    "slideshow": {
     "slide_type": "fragment"
    },
    "tags": []
   },
   "outputs": [
    {
     "data": {
      "text/html": [
       "<div>\n",
       "<style scoped>\n",
       "    .dataframe tbody tr th:only-of-type {\n",
       "        vertical-align: middle;\n",
       "    }\n",
       "\n",
       "    .dataframe tbody tr th {\n",
       "        vertical-align: top;\n",
       "    }\n",
       "\n",
       "    .dataframe thead th {\n",
       "        text-align: right;\n",
       "    }\n",
       "</style>\n",
       "<table border=\"1\" class=\"dataframe\">\n",
       "  <thead>\n",
       "    <tr style=\"text-align: right;\">\n",
       "      <th></th>\n",
       "      <th>idnummer</th>\n",
       "      <th>aar</th>\n",
       "      <th>Kat</th>\n",
       "      <th>expo</th>\n",
       "      <th>skadesantal</th>\n",
       "      <th>alder</th>\n",
       "      <th>forsum</th>\n",
       "      <th>zone</th>\n",
       "      <th>anc</th>\n",
       "      <th>afst_brand</th>\n",
       "      <th>afst_politi</th>\n",
       "      <th>anthund</th>\n",
       "      <th>boligareal</th>\n",
       "      <th>selvrisk</th>\n",
       "      <th>segment</th>\n",
       "      <th>ant_vaadrum</th>\n",
       "      <th>betfrekvens</th>\n",
       "      <th>byg_anvend_kode</th>\n",
       "      <th>kon</th>\n",
       "      <th>lejlighed</th>\n",
       "      <th>opfaar</th>\n",
       "      <th>parcel</th>\n",
       "      <th>tagtype</th>\n",
       "      <th>varmeinst</th>\n",
       "      <th>geo</th>\n",
       "      <th>skadesudgift</th>\n",
       "    </tr>\n",
       "  </thead>\n",
       "  <tbody>\n",
       "    <tr>\n",
       "      <th>0</th>\n",
       "      <td>280135</td>\n",
       "      <td>2015</td>\n",
       "      <td>Indbrud</td>\n",
       "      <td>1.0</td>\n",
       "      <td>0</td>\n",
       "      <td>63</td>\n",
       "      <td>949000</td>\n",
       "      <td>1</td>\n",
       "      <td>7</td>\n",
       "      <td>7.279781</td>\n",
       "      <td>0.890548</td>\n",
       "      <td>2</td>\n",
       "      <td>108.0</td>\n",
       "      <td>0</td>\n",
       "      <td>3</td>\n",
       "      <td>3</td>\n",
       "      <td>1</td>\n",
       "      <td>120</td>\n",
       "      <td>M</td>\n",
       "      <td>0</td>\n",
       "      <td>2012</td>\n",
       "      <td>1</td>\n",
       "      <td>5</td>\n",
       "      <td>5</td>\n",
       "      <td>landsby</td>\n",
       "      <td>0.0</td>\n",
       "    </tr>\n",
       "    <tr>\n",
       "      <th>1</th>\n",
       "      <td>242129</td>\n",
       "      <td>2015</td>\n",
       "      <td>Indbrud</td>\n",
       "      <td>1.0</td>\n",
       "      <td>0</td>\n",
       "      <td>61</td>\n",
       "      <td>759000</td>\n",
       "      <td>8</td>\n",
       "      <td>6</td>\n",
       "      <td>2.104601</td>\n",
       "      <td>2.059088</td>\n",
       "      <td>0</td>\n",
       "      <td>175.0</td>\n",
       "      <td>0</td>\n",
       "      <td>3</td>\n",
       "      <td>5</td>\n",
       "      <td>3</td>\n",
       "      <td>120</td>\n",
       "      <td>K</td>\n",
       "      <td>0</td>\n",
       "      <td>1864</td>\n",
       "      <td>1</td>\n",
       "      <td>3</td>\n",
       "      <td>2</td>\n",
       "      <td>land</td>\n",
       "      <td>0.0</td>\n",
       "    </tr>\n",
       "    <tr>\n",
       "      <th>2</th>\n",
       "      <td>253578</td>\n",
       "      <td>2015</td>\n",
       "      <td>Indbrud</td>\n",
       "      <td>1.0</td>\n",
       "      <td>0</td>\n",
       "      <td>27</td>\n",
       "      <td>190000</td>\n",
       "      <td>3</td>\n",
       "      <td>1</td>\n",
       "      <td>1.654300</td>\n",
       "      <td>1.055982</td>\n",
       "      <td>0</td>\n",
       "      <td>58.0</td>\n",
       "      <td>1000</td>\n",
       "      <td>3</td>\n",
       "      <td>3</td>\n",
       "      <td>3</td>\n",
       "      <td>140</td>\n",
       "      <td>M</td>\n",
       "      <td>1</td>\n",
       "      <td>1947</td>\n",
       "      <td>0</td>\n",
       "      <td>5</td>\n",
       "      <td>1</td>\n",
       "      <td>metropol</td>\n",
       "      <td>0.0</td>\n",
       "    </tr>\n",
       "    <tr>\n",
       "      <th>3</th>\n",
       "      <td>195235</td>\n",
       "      <td>2015</td>\n",
       "      <td>Indbrud</td>\n",
       "      <td>1.0</td>\n",
       "      <td>0</td>\n",
       "      <td>51</td>\n",
       "      <td>1139000</td>\n",
       "      <td>2</td>\n",
       "      <td>19</td>\n",
       "      <td>0.633819</td>\n",
       "      <td>0.925148</td>\n",
       "      <td>0</td>\n",
       "      <td>157.0</td>\n",
       "      <td>0</td>\n",
       "      <td>3</td>\n",
       "      <td>4</td>\n",
       "      <td>3</td>\n",
       "      <td>120</td>\n",
       "      <td>K</td>\n",
       "      <td>0</td>\n",
       "      <td>1974</td>\n",
       "      <td>1</td>\n",
       "      <td>4</td>\n",
       "      <td>1</td>\n",
       "      <td>landsby</td>\n",
       "      <td>0.0</td>\n",
       "    </tr>\n",
       "    <tr>\n",
       "      <th>4</th>\n",
       "      <td>232655</td>\n",
       "      <td>2015</td>\n",
       "      <td>Indbrud</td>\n",
       "      <td>1.0</td>\n",
       "      <td>0</td>\n",
       "      <td>&lt;NA&gt;</td>\n",
       "      <td>949000</td>\n",
       "      <td>8</td>\n",
       "      <td>32</td>\n",
       "      <td>3.310923</td>\n",
       "      <td>4.494339</td>\n",
       "      <td>0</td>\n",
       "      <td>67.0</td>\n",
       "      <td>1000</td>\n",
       "      <td>3</td>\n",
       "      <td>3</td>\n",
       "      <td>1</td>\n",
       "      <td>140</td>\n",
       "      <td>NaN</td>\n",
       "      <td>1</td>\n",
       "      <td>1979</td>\n",
       "      <td>0</td>\n",
       "      <td>4</td>\n",
       "      <td>1</td>\n",
       "      <td>by</td>\n",
       "      <td>0.0</td>\n",
       "    </tr>\n",
       "    <tr>\n",
       "      <th>5</th>\n",
       "      <td>94021</td>\n",
       "      <td>2015</td>\n",
       "      <td>Indbrud</td>\n",
       "      <td>1.0</td>\n",
       "      <td>0</td>\n",
       "      <td>81</td>\n",
       "      <td>949000</td>\n",
       "      <td>2</td>\n",
       "      <td>28</td>\n",
       "      <td>14.207866</td>\n",
       "      <td>0.599468</td>\n",
       "      <td>0</td>\n",
       "      <td>85.0</td>\n",
       "      <td>0</td>\n",
       "      <td>3</td>\n",
       "      <td>3</td>\n",
       "      <td>3</td>\n",
       "      <td>130</td>\n",
       "      <td>M</td>\n",
       "      <td>0</td>\n",
       "      <td>1991</td>\n",
       "      <td>1</td>\n",
       "      <td>4</td>\n",
       "      <td>2</td>\n",
       "      <td>land</td>\n",
       "      <td>0.0</td>\n",
       "    </tr>\n",
       "  </tbody>\n",
       "</table>\n",
       "</div>"
      ],
      "text/plain": [
       "  idnummer   aar      Kat  expo  skadesantal  alder   forsum zone  anc  \\\n",
       "0   280135  2015  Indbrud   1.0            0     63   949000    1    7   \n",
       "1   242129  2015  Indbrud   1.0            0     61   759000    8    6   \n",
       "2   253578  2015  Indbrud   1.0            0     27   190000    3    1   \n",
       "3   195235  2015  Indbrud   1.0            0     51  1139000    2   19   \n",
       "4   232655  2015  Indbrud   1.0            0   <NA>   949000    8   32   \n",
       "5    94021  2015  Indbrud   1.0            0     81   949000    2   28   \n",
       "\n",
       "   afst_brand  afst_politi  anthund  boligareal  selvrisk segment  \\\n",
       "0    7.279781     0.890548        2       108.0         0       3   \n",
       "1    2.104601     2.059088        0       175.0         0       3   \n",
       "2    1.654300     1.055982        0        58.0      1000       3   \n",
       "3    0.633819     0.925148        0       157.0         0       3   \n",
       "4    3.310923     4.494339        0        67.0      1000       3   \n",
       "5   14.207866     0.599468        0        85.0         0       3   \n",
       "\n",
       "   ant_vaadrum betfrekvens byg_anvend_kode  kon lejlighed  opfaar parcel  \\\n",
       "0            3           1             120    M         0    2012      1   \n",
       "1            5           3             120    K         0    1864      1   \n",
       "2            3           3             140    M         1    1947      0   \n",
       "3            4           3             120    K         0    1974      1   \n",
       "4            3           1             140  NaN         1    1979      0   \n",
       "5            3           3             130    M         0    1991      1   \n",
       "\n",
       "  tagtype varmeinst       geo  skadesudgift  \n",
       "0       5         5   landsby           0.0  \n",
       "1       3         2      land           0.0  \n",
       "2       5         1  metropol           0.0  \n",
       "3       4         1   landsby           0.0  \n",
       "4       4         1        by           0.0  \n",
       "5       4         2      land           0.0  "
      ]
     },
     "execution_count": 4,
     "metadata": {},
     "output_type": "execute_result"
    }
   ],
   "source": [
    "df = pd.read_parquet(\"../data/train.parquet\")\n",
    "df.head(n=6)"
   ]
  },
  {
   "cell_type": "markdown",
   "metadata": {
    "slideshow": {
     "slide_type": "fragment"
    }
   },
   "source": [
    "#### Noter\n",
    "\n",
    "- Rækkerne er unikke på kombinationen af `idnummer` og `aar`.\n",
    "- Der indgår kun observationer, hvor `expo == 1`.\n",
    "- `skadesantal` er antallet af opgjorte skader for det pågældende år.\n",
    "- Der indgår kun observationer, hvor `Kat == 'Indbrud'`."
   ]
  },
  {
   "cell_type": "markdown",
   "metadata": {
    "slideshow": {
     "slide_type": "slide"
    }
   },
   "source": [
    "## Formulering af ML-opgave\n",
    "Vi definerer vores target $y$ som en binær variabel `skadesantal > 0`. Dermed står vi med et binært klassifikationsproblem.\n",
    "\n",
    "De øvrige variable i datasættet kan potentielt anvendes som features, $X$, i vores model. \n",
    "\n",
    "Vores model skal kunne estimere sandsynligheden $P(y_{i}=1|X_i)$ for enhver observation $i$.\n",
    "\n",
    "Vi vedtager, at modellens prædiktive performance skal maksimere performance-metrikken [*ROC AUC*](05_roc_auc.ipynb) (som vi vender tilbage til)."
   ]
  },
  {
   "cell_type": "markdown",
   "metadata": {
    "slideshow": {
     "slide_type": "slide"
    }
   },
   "source": [
    "## Data splitting\n",
    "Før vi begynder selve udviklingen af vores modeller, vil vi splitte vores datasæt i tre sæt: *træning*, *validering* og *test*.\n",
    "\n",
    "- *træning*: bruges til at træne modeller.\n",
    "- *validering*: bruges til at tune modellens parametre og vurdere modellens prædiktive performance på i forbindelse med træning.\n",
    "- *test*: bruges til at evaluere modellens endelige performance, når man har valgt sin endelige model og *er __helt færdig__ med at modellere*. "
   ]
  },
  {
   "cell_type": "markdown",
   "metadata": {
    "slideshow": {
     "slide_type": "slide"
    }
   },
   "source": [
    "### Motivation for data splitting\n",
    "\n",
    "- at udvikle robuste ML-modeller, der generaliserer bedst muligt til nye, usete data\n",
    "- at sikre unbiased estimation af modellens performance\n",
    "\n",
    "Som standard samples de tre datasæt tilfældigt blandt observationerne i datasættet, f.eks. i et 70/15/15-split.\n",
    "\n",
    "![Data Splitting](img/datasplit.png)\n",
    "\n",
    "I vores case er *observationerne for 2019 på forhånd udtaget til et test-sæt*.\n",
    "\n",
    "Se også [Train, Test and Validation Sets](https://mlu-explain.github.io/train-test-validation/)."
   ]
  },
  {
   "cell_type": "markdown",
   "metadata": {
    "slideshow": {
     "slide_type": "slide"
    }
   },
   "source": [
    "## [LAB] 🔬 \n",
    "\n",
    "&#128073; Indledende data-analyse: `lab_01_eda.ipynb`"
   ]
  }
 ],
 "metadata": {
  "kernelspec": {
   "display_name": "venv",
   "language": "python",
   "name": "python3"
  },
  "language_info": {
   "codemirror_mode": {
    "name": "ipython",
    "version": 3
   },
   "file_extension": ".py",
   "mimetype": "text/x-python",
   "name": "python",
   "nbconvert_exporter": "python",
   "pygments_lexer": "ipython3",
   "version": "3.11.6"
  }
 },
 "nbformat": 4,
 "nbformat_minor": 2
}
