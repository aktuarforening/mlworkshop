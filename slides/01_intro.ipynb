{
 "cells": [
  {
   "cell_type": "markdown",
   "metadata": {},
   "source": [
    "# Machine Learning i praksis"
   ]
  },
  {
   "cell_type": "markdown",
   "metadata": {
    "slideshow": {
     "slide_type": "slide"
    }
   },
   "source": [
    "## Hvem er jeg?\n",
    "\n",
    "Mig: Lars Kjeldgaard\n",
    "\n",
    "Lige nu: På barsel\n",
    "\n",
    "Uddannelse: cand.scient.oecon. fra Aarhus Universitet, 2012\n",
    "\n",
    "Erhvervserfaring:\n",
    "\n",
    "- Danica Pension, Økonom\n",
    "- JP/Politikens Hus, Data Scientist\n",
    "- Skatteforvaltningen, Data Scientist\n",
    "\n",
    "Har derudover en række R- og python-pakker til samvittigheden"
   ]
  },
  {
   "cell_type": "markdown",
   "metadata": {
    "slideshow": {
     "slide_type": "subslide"
    }
   },
   "source": [
    "### Hvem er I?"
   ]
  },
  {
   "cell_type": "markdown",
   "metadata": {
    "slideshow": {
     "slide_type": "slide"
    }
   },
   "source": [
    "## Program\n",
    "\n",
    "### Dag 1\n",
    "\n",
    "- Opsætning\n",
    "- Hvad er *Machine Learning*?\n",
    "- Introduktion til *hands-on* opgave\n",
    "- Intro til datasæt\n",
    "- Udvikling af baseline-model m. Logistisk regression\n",
    "\n",
    "### Dag 2\n",
    "\n",
    "- Introduktion til *Gradient Boosting Trees*\n",
    "- Udvikling af *XGBoost*-model\n",
    "- *Kaggle* Lab\n",
    "- Opsamling"
   ]
  },
  {
   "cell_type": "markdown",
   "metadata": {
    "slideshow": {
     "slide_type": "slide"
    }
   },
   "source": [
    "## Format\n",
    "\n",
    "Der bliver tale om en *workshop* mere end et kursus.\n",
    "\n",
    "Workshoppen er *bygget op om omkring en case* fra aktuar-studiet, som vi vil løse med Machine Learning og Python.\n",
    "\n",
    "Vi vil *gennemgå de mest centrale koncepter inden for Machine Learning*, i takt med at vi møder dem i forbindelse med opgaveløsningen.\n",
    "\n",
    "Workshoppen har fokus på *Machine Learning i praksis*.\n",
    "\n",
    "Vi vil samtidig bestræbe os på at udvikle vores modeller efter bedste praksis - både fsa. metode og *kodestruktur*."
   ]
  }
 ],
 "metadata": {
  "language_info": {
   "name": "python"
  }
 },
 "nbformat": 4,
 "nbformat_minor": 2
}
