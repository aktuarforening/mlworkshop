{
 "cells": [
  {
   "cell_type": "markdown",
   "metadata": {
    "slideshow": {
     "slide_type": "slide"
    }
   },
   "source": [
    "# Hvad er *Machine Learning*?\n",
    "\n",
    "> Machine Learning (=ML) is a craftmanship that focuses on the development of algorithms and statistical models. \n",
    "> These algorithms allow **computers to perform tasks without explicit programming instructions**, relying on patterns and inference instead.\n",
    "\n",
    "Kilde: ChatGPT"
   ]
  },
  {
   "cell_type": "markdown",
   "metadata": {
    "slideshow": {
     "slide_type": "slide"
    }
   },
   "source": [
    "## Nøglekoncepter\n",
    "\n",
    "1. **Lære fra data**\n",
    "   - En ML-model lærer at identificere mønstre fra historiske data, som den kan omsætte til prædiktioner og/eller beslutninger\n",
    "\n",
    "2. **Generalisérbarhed**\n",
    "   - En ML-model *generaliserer* mønstre lært fra *træningsdata* til prædiktioner og beslutninger vedrørende *nye*, usete observationer\n",
    "\n",
    "3. **Autonomi**\n",
    "   - En ML-model *skal som udgangspunkt påtvinges mindst mulig ekstern logik* og i stedet lære mest muligt automatisk fra data"
   ]
  },
  {
   "cell_type": "markdown",
   "metadata": {
    "slideshow": {
     "slide_type": "subslide"
    }
   },
   "source": [
    "### Undgå\n",
    "\n",
    "1. Hardcodede *features*\n",
    "2. Hardcoded forretningslogik"
   ]
  },
  {
   "cell_type": "markdown",
   "metadata": {
    "slideshow": {
     "slide_type": "slide"
    }
   },
   "source": [
    "## Grene inden for ML\n",
    "\n",
    "1. **Supervised Learning**\n",
    "2. Unsupervised Learning\n",
    "3. Reinforcement Learning\n",
    "4. Semi-supervised Learning\n",
    "5. Deep Learning (=AI)"
   ]
  },
  {
   "cell_type": "markdown",
   "metadata": {
    "slideshow": {
     "slide_type": "subslide"
    }
   },
   "source": [
    "### 1. Supervised Learning\n",
    "\n",
    "I *supervised learning* lærer en ML-model fra *labeled* data, dvs. hvor der er par af *target*/*features*. Algoritmen søger at lære en funktion, der mapper features til target.\n",
    "\n",
    "#### Eksempler\n",
    "- *Klassifikation*: Prædiktér om en mail er spam eller ej\n",
    "    - **+ Vores hands-on-opgave!**\n",
    "- *Regression*: Prædiktér salgspriser på boliger baseret på features såsom boligareal, beliggenhed etc.\n",
    "- *Recommender-systemer*: Spotify- og Netflix-anbefalinger"
   ]
  },
  {
   "cell_type": "markdown",
   "metadata": {
    "slideshow": {
     "slide_type": "subslide"
    }
   },
   "source": [
    "### 2. Unsupervised Learning\n",
    "\n",
    "*Unsupervised learning* opererer på *unlabeled data*, dvs. data hvor der ikke er noget observeret noget target. ML-modellen søger at lære mønstre og strukturer fra data.\n",
    "\n",
    "#### Eksempler\n",
    "- *Clustering*: Gruppér kunder i homogene klynger baseret på deres købshistorik\n",
    "- *Dimensionality Reduction*: Reducér antallet af features, men bevar mest mulig vigtig information"
   ]
  },
  {
   "cell_type": "markdown",
   "metadata": {
    "slideshow": {
     "slide_type": "subslide"
    }
   },
   "source": [
    "### 3. Reinforcement Learning\n",
    "\n",
    "*Reinforcement learning* indebærer, at *agent* lærer at træffe beslutninger baseret på interaktioner med et miljø. Agenten får feedback på dens handlinger i form af *rewards* og *penalties*.\n",
    "\n",
    "#### Eksempler\n",
    "- Træne en robot til at navigere gennem en labyrint\n",
    "- Lære computer at spille skak, Go eller computer-spil\n",
    "\n",
    "[Visuel gennemgang af Reinforcement Learning](https://mlu-explain.github.io/reinforcement-learning/)"
   ]
  },
  {
   "cell_type": "markdown",
   "metadata": {
    "slideshow": {
     "slide_type": "subslide"
    }
   },
   "source": [
    "### 4. Semi-supervised Learning\n",
    "\n",
    "*Semi-supervised learning* kombinerer elementer fra *supervised* og *unsupervised learning*.  \n",
    "\n",
    "#### Eksempler\n",
    "- Et mindre antal *labeled* billeder og et stort antal *unlabeled* billeder anvendes i kombination til at træne en prædiktiv ML-model."
   ]
  },
  {
   "cell_type": "markdown",
   "metadata": {
    "slideshow": {
     "slide_type": "subslide"
    }
   },
   "source": [
    "### 5. Deep Learning (=AI)\n",
    "\n",
    "Deep learning er en delmængde af Machine Learning, der anvender *Neurale Netværk* med mange lag (=*deep architectures*) til at lære komplekse mønstre fra store (ustrukturerede) datasæt, f.eks. billeder, video, tekst og lyd.\n",
    "\n",
    "#### Eksempler\n",
    "- *Image Recognition*: Identifikation af objekter på billeder\n",
    "- *Natural Language Processing*: Forstå og generér menneskeligt sprog\n",
    "    - Large Language Models, Chat-GPT, Chatbots etc.\n",
    "- *Video*: [Sora](https://openai.com/sora)\n",
    "\n",
    "Se denne [visuelle gennemgang](https://mlu-explain.github.io/neural-networks/) af Neurale Netværk."
   ]
  },
  {
   "cell_type": "markdown",
   "metadata": {
    "slideshow": {
     "slide_type": "slide"
    }
   },
   "source": [
    "##  ML-ordbog\n",
    "\n",
    "Inden for henholdvis ML og statistik bruger man forskellige ord for de samme ting, hvilket kan give anledning til en del støj.\n",
    "\n",
    "Til denne workshop vil vi prøve at være stringente med at anvende ML-termer.\n",
    "\n",
    "<img src=\"img/translation.png\" alt=\"image\" width=\"70%\">\n",
    "\n",
    "[Kilde](https://insights.sei.cmu.edu/blog/translating-between-statistics-and-machine-learning/)"
   ]
  },
  {
   "cell_type": "markdown",
   "metadata": {
    "slideshow": {
     "slide_type": "slide"
    }
   },
   "source": [
    "## Anbefalede ressourcer\n",
    "\n",
    "Amazons [MLU-Explain](https://mlu-explain.github.io/) tilbyder gennemarbejdede visuelle forklaringer på de vigtigste Machine Learning-koncepter.\n",
    "\n",
    "[An Introduction to Statistical Learning](https://www.statlearning.com/) er gratis og giver en meget grundig og pædagogisk introduktion til anvendt Machine Learning (og Deep Learning).\n",
    "Findes i to udgaver - en med applikationer i hhv. R og Python.\n",
    "\n",
    "<img src=\"https://images.squarespace-cdn.com/content/v1/5ff2adbe3fe4fe33db902812/8b373fbe-d1b4-4351-b803-0d3cd5bba1b0/ISLP_cover.png?format=1000w\" alt=\"image\" width=\"25%\">"
   ]
  }
 ],
 "metadata": {
  "language_info": {
   "name": "python"
  }
 },
 "nbformat": 4,
 "nbformat_minor": 2
}
